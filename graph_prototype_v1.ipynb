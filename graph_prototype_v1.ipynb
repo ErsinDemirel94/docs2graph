{
  "nbformat": 4,
  "nbformat_minor": 0,
  "metadata": {
    "colab": {
      "provenance": [],
      "authorship_tag": "ABX9TyPgaEHB8Lp0KKjE1bCE1HIU",
      "include_colab_link": true
    },
    "kernelspec": {
      "name": "python3",
      "display_name": "Python 3"
    },
    "language_info": {
      "name": "python"
    }
  },
  "cells": [
    {
      "cell_type": "markdown",
      "metadata": {
        "id": "view-in-github",
        "colab_type": "text"
      },
      "source": [
        "<a href=\"https://colab.research.google.com/github/ErsinDemirel94/docs2graph/blob/main/graph_prototype_v1.ipynb\" target=\"_parent\"><img src=\"https://colab.research.google.com/assets/colab-badge.svg\" alt=\"Open In Colab\"/></a>"
      ]
    },
    {
      "cell_type": "markdown",
      "source": [
        "# Input Files"
      ],
      "metadata": {
        "id": "kmTlTY1W_RsX"
      }
    },
    {
      "cell_type": "markdown",
      "source": [
        "Aşağıda liste şeklinde verilen paragraflar işlenerek, isimli varlıklar tespit edilir(named entity recognition). Aynı varlığı ifade eden tespitler düzeltilir. (deduplication)İki farklı varlığın aynı paragrafta bahsi geçiyorsa aralarında bağlantı tanımlanır. (co-occurrence graph)"
      ],
      "metadata": {
        "id": "tMPhsqb73ZZ1"
      }
    },
    {
      "cell_type": "code",
      "source": [
        "with open('dummy_text.txt') as f:\n",
        "    lines = f.readlines()\n",
        "\n",
        "lines = [i.replace(\"\\n\",\"\") for i in lines] \n",
        "list_of_paragraphs = [ele for ele in lines if len(ele) > 1]\n",
        "list_of_paragraphs"
      ],
      "metadata": {
        "colab": {
          "base_uri": "https://localhost:8080/"
        },
        "id": "Ey5pAJvEN39H",
        "outputId": "822ea5d5-a605-46cf-b529-3a1c4e1b21c7"
      },
      "execution_count": null,
      "outputs": [
        {
          "output_type": "execute_result",
          "data": {
            "text/plain": [
              "[\"Bu ilanda Mehmet Demir'in ortağı olduğu Vestel A.Ş'ye dair bilgiler paylaşılacaktır. Bu firmanın diğer, ortakları ise sırasıyla Ayşe Yeşil ve Fatma Kara'dır.\",\n",
              " \"Bu diğer ilanda ise 1995 yılında kurulan Borok Anonim Şirketi'nin konkardatosu ilan edilmiştir. Bu durumda Fatma Kara ve Halis Uçak işsiz kalacaktır.\",\n",
              " \"1994'daki karar üzerine Karpuzlu AVM'nin üst kuruluşu Yetişen Holding'in yönetim kurulu başkanı Halis Uçak, Antalya'ya yerleşmiştir.\",\n",
              " \"Yetişen Holdingin bir diğer önemli kişisi Kaan Gök, Mollalar LTD. ŞTİ'nin sahibidir.\",\n",
              " 'Geçenlerde Kaan gok bir açıklama yaptı. Bu açıklama da Borok firmasında çalışan Fatma Kara ile ilgiliydi. Ve çok önemliydi.']"
            ]
          },
          "metadata": {},
          "execution_count": 55
        }
      ]
    },
    {
      "cell_type": "code",
      "execution_count": null,
      "metadata": {
        "colab": {
          "base_uri": "https://localhost:8080/"
        },
        "id": "D9Vymeez_Olf",
        "outputId": "66079a15-4d56-418c-cce7-364adc764859"
      },
      "outputs": [
        {
          "output_type": "stream",
          "name": "stdout",
          "text": [
            "[{'ilan_id': 0, 'ilan_text': \"Bu ilanda Mehmet Demir'in ortağı olduğu Vestel A.Ş'ye dair bilgiler paylaşılacaktır. Bu firmanın diğer, ortakları ise sırasıyla Ayşe Yeşil ve Fatma Kara'dır.\"}, {'ilan_id': 1, 'ilan_text': \"Bu diğer ilanda ise 1995 yılında kurulan Borok Anonim Şirketi'nin konkardatosu ilan edilmiştir. Bu durumda Fatma Kara ve Halis Uçak işsiz kalacaktır.\"}, {'ilan_id': 2, 'ilan_text': \"1994'daki karar üzerine Karpuzlu AVM'nin üst kuruluşu Yetişen Holding'in yönetim kurulu başkanı Halis Uçak, Antalya'ya yerleşmiştir.\"}, {'ilan_id': 3, 'ilan_text': \"Yetişen Holdingin bir diğer önemli kişisi Kaan Gök, Mollalar LTD. ŞTİ'nin sahibidir.\"}, {'ilan_id': 4, 'ilan_text': 'Geçenlerde Kaan gok bir açıklama yaptı. Bu açıklama da Borok firmasında çalışan Fatma Kara ile ilgiliydi. Ve çok önemliydi.'}]\n"
          ]
        }
      ],
      "source": [
        "import json\n",
        "\n",
        "# list_of_paragraphs\n",
        "ilans = []\n",
        "for idx, paragraphs in enumerate(list_of_paragraphs):\n",
        "  dct_ = {\"ilan_id\":idx,\n",
        "  \"ilan_text\":paragraphs}\n",
        "  ilans.append(dct_)\n",
        "\n",
        "#j$sonString = json.dumps(output)\n",
        "\n",
        "print(ilans)\n",
        "\n",
        "\n",
        "# ilan_id, ilan_text in ilans"
      ]
    },
    {
      "cell_type": "markdown",
      "source": [
        "N tane JSON Record with :\n",
        "\n",
        "\n",
        "*   id: str\n",
        "\n",
        "*   text: str\n",
        "\n",
        "\n"
      ],
      "metadata": {
        "id": "ucehsq_W_fyn"
      }
    },
    {
      "cell_type": "markdown",
      "source": [
        "# NER Pipeline"
      ],
      "metadata": {
        "id": "AvfojuA4_18i"
      }
    },
    {
      "cell_type": "code",
      "source": [
        "!pip install transformers==4.4.2"
      ],
      "metadata": {
        "colab": {
          "base_uri": "https://localhost:8080/"
        },
        "id": "4Z1xIOmr_6nJ",
        "outputId": "b1de48cc-1a72-4fcc-cadb-bf7f7c41b65b"
      },
      "execution_count": null,
      "outputs": [
        {
          "output_type": "stream",
          "name": "stdout",
          "text": [
            "Installing collected packages: tokenizers, sacremoses, transformers\n",
            "Successfully installed sacremoses-0.0.53 tokenizers-0.10.3 transformers-4.4.2\n"
          ]
        }
      ]
    },
    {
      "cell_type": "code",
      "source": [
        "!pip install https://huggingface.co/turkish-nlp-suite/tr_core_news_trf/resolve/main/tr_core_news_trf-any-py3-none-any.whl"
      ],
      "metadata": {
        "colab": {
          "base_uri": "https://localhost:8080/"
        },
        "id": "Deh2xpoE_4eI",
        "outputId": "41136733-9713-47d6-dcbd-72aa7a8b57a9"
      },
      "execution_count": null,
      "outputs": [
        {
          "output_type": "stream",
          "name": "stdout",
          "text": [
            "Installing collected packages: spacy-alignments, spacy-transformers, tr-core-news-trf\n",
            "Successfully installed spacy-alignments-0.8.6 spacy-transformers-1.1.8 tr-core-news-trf-3.4.2\n"
          ]
        }
      ]
    },
    {
      "cell_type": "code",
      "source": [
        "import spacy\n",
        "\n",
        "class nlp_pipeline:\n",
        "\n",
        "  def __init__(self, gpu=True, disable_list = [], batch_size = 16, lang_model = \"tr_core_news_trf\"):\n",
        "\n",
        "    self.gpu = gpu\n",
        "    self.disable_list = disable_list\n",
        "    self.batch_size = batch_size\n",
        "    self.lang_model = lang_model\n",
        "\n",
        "\n",
        "    if gpu == True:\n",
        "      #spacy.require_gpu(gpu_id=0) # add GPU \n",
        "      spacy.prefer_gpu(gpu_id=0) # add GPU \n",
        "\n",
        "\n",
        "    self.nlp = spacy.load(self.lang_model, disable= self.disable_list)\n",
        "\n",
        "    # ['transformer','tagger','morphologizer','trainable_lemmatizer','parser','ner']\n",
        "\n",
        "\n",
        "  def pipe_process(self, list_of_texts, batch_size):\n",
        "\n",
        "    docs = []\n",
        "    \n",
        "    ## NLP pipe list olarak alır ve batch process yapar. n_process ile parallel de yapar.\n",
        "    for doc in self.nlp.pipe(list_of_texts, batch_size = self.batch_size): \n",
        "      docs.append(doc)\n",
        "\n",
        "    return docs\n",
        "\n",
        "  def ner_pipe(self, list_of_texts=[], batch_size = 16):\n",
        "    \n",
        "\n",
        "    # ner classes: CARDINAL, DATE, EVENT, FAC, GPE, LANGUAGE, LAW, LOC, MONEY, \n",
        "    # NORP, ORDINAL, ORG, PER, PERCENT, PERSON, PRODUCT, QUANTITY, TIME, TITLE, WORK_OF_ART\n",
        "\n",
        "    # PARAGRAPH İŞLEYEBİLİR. in ilan, convert list of paragraphs. or convert list of sentences, apply ner.\n",
        "\n",
        "    docs = []\n",
        "    \n",
        "     ## NLP pipe list olarak alır ve batch process yapar. n_process ile parallel de yapar.\n",
        "    for idx, doc in enumerate(self.nlp.pipe(list_of_texts, batch_size = batch_size)):\n",
        "      docs.append((doc,idx)) \n",
        "\n",
        "    out = []\n",
        "    ent_label_list = [\"ORG\", \"PERSON\"]\n",
        "    \n",
        "    for doc, idx in docs:\n",
        "\n",
        "      for ent in doc.ents:\n",
        "        # simple preprocessing of entities\n",
        "        entity_name = ent.text.split(\"\\'\", 1)[0]\n",
        "\n",
        "        if ent.label_ in ent_label_list:\n",
        "          out.append((entity_name, ent.label_))\n",
        "\n",
        "    return out\n",
        "\n"
      ],
      "metadata": {
        "id": "Gfozofes_UTS"
      },
      "execution_count": null,
      "outputs": []
    },
    {
      "cell_type": "code",
      "source": [
        "!pip install zemberek-python"
      ],
      "metadata": {
        "colab": {
          "base_uri": "https://localhost:8080/"
        },
        "id": "w9U486mKR2k1",
        "outputId": "c6cbd5c4-7fef-4635-f248-a8596d4be4aa"
      },
      "execution_count": null,
      "outputs": [
        {
          "output_type": "stream",
          "name": "stdout",
          "text": [
            "Looking in indexes: https://pypi.org/simple, https://us-python.pkg.dev/colab-wheels/public/simple/\n",
            "Collecting zemberek-python\n",
            "  Downloading zemberek_python-0.2.2-py3-none-any.whl (95.0 MB)\n",
            "\u001b[K     |████████████████████████████████| 95.0 MB 103 kB/s \n",
            "\u001b[?25hCollecting antlr4-python3-runtime==4.8\n",
            "  Downloading antlr4-python3-runtime-4.8.tar.gz (112 kB)\n",
            "\u001b[K     |████████████████████████████████| 112 kB 48.4 MB/s \n",
            "\u001b[?25hRequirement already satisfied: numpy>=1.19.0 in /usr/local/lib/python3.7/dist-packages (from zemberek-python) (1.21.6)\n",
            "Building wheels for collected packages: antlr4-python3-runtime\n",
            "  Building wheel for antlr4-python3-runtime (setup.py) ... \u001b[?25l\u001b[?25hdone\n",
            "  Created wheel for antlr4-python3-runtime: filename=antlr4_python3_runtime-4.8-py3-none-any.whl size=141231 sha256=7c6d41e82639f0a5c4d4108a4938cb9773f49544d47cbadb82ffe42800d1f493\n",
            "  Stored in directory: /root/.cache/pip/wheels/ca/33/b7/336836125fc9bb4ceaa4376d8abca10ca8bc84ddc824baea6c\n",
            "Successfully built antlr4-python3-runtime\n",
            "Installing collected packages: antlr4-python3-runtime, zemberek-python\n",
            "Successfully installed antlr4-python3-runtime-4.8 zemberek-python-0.2.2\n"
          ]
        }
      ]
    },
    {
      "cell_type": "markdown",
      "source": [
        "# Tokenization & Deduplication"
      ],
      "metadata": {
        "id": "XySEGCz5xhZG"
      }
    },
    {
      "cell_type": "code",
      "source": [
        "import time\n",
        "import logging\n",
        "\n",
        "from zemberek import (\n",
        "    TurkishSpellChecker,\n",
        "    TurkishSentenceNormalizer,\n",
        "    TurkishSentenceExtractor,\n",
        "    TurkishMorphology,\n",
        "    TurkishTokenizer\n",
        ")\n",
        "\n",
        "extractor = TurkishSentenceExtractor()"
      ],
      "metadata": {
        "id": "mBSY5NHgR1Ap"
      },
      "execution_count": null,
      "outputs": []
    },
    {
      "cell_type": "code",
      "source": [
        "!pip install pandas_dedupe"
      ],
      "metadata": {
        "colab": {
          "base_uri": "https://localhost:8080/"
        },
        "id": "vhY3MUmoSvfS",
        "outputId": "19fcdc58-9a97-4920-a044-7cbb3770ce32"
      },
      "execution_count": null,
      "outputs": [
        {
          "output_type": "stream",
          "name": "stdout",
          "text": [
            "Installing collected packages: unidecode, pandas-dedupe\n",
            "Successfully installed pandas-dedupe-1.5.0 unidecode-1.3.6\n"
          ]
        }
      ]
    },
    {
      "cell_type": "code",
      "source": [
        "import pandas as pd\n",
        "import pandas_dedupe\n",
        "\n",
        "nlp_parser = nlp_pipeline(gpu=True,batch_size=4)"
      ],
      "metadata": {
        "id": "WlwGy_kJT8T5"
      },
      "execution_count": null,
      "outputs": []
    },
    {
      "cell_type": "code",
      "source": [
        "ilans"
      ],
      "metadata": {
        "colab": {
          "base_uri": "https://localhost:8080/"
        },
        "id": "kv5_NE-LURJs",
        "outputId": "2dec01fc-392d-4109-d6f9-9320c031c402"
      },
      "execution_count": null,
      "outputs": [
        {
          "output_type": "execute_result",
          "data": {
            "text/plain": [
              "[{'ilan_id': 0,\n",
              "  'ilan_text': \"Bu ilanda Mehmet Demir'in ortağı olduğu Vestel A.Ş'ye dair bilgiler paylaşılacaktır. Bu firmanın diğer, ortakları ise sırasıyla Ayşe Yeşil ve Fatma Kara'dır.\"},\n",
              " {'ilan_id': 1,\n",
              "  'ilan_text': \"Bu diğer ilanda ise 1995 yılında kurulan Borok Anonim Şirketi'nin konkardatosu ilan edilmiştir. Bu durumda Fatma Kara ve Halis Uçak işsiz kalacaktır.\"},\n",
              " {'ilan_id': 2,\n",
              "  'ilan_text': \"1994'daki karar üzerine Karpuzlu AVM'nin üst kuruluşu Yetişen Holding'in yönetim kurulu başkanı Halis Uçak, Antalya'ya yerleşmiştir.\"},\n",
              " {'ilan_id': 3,\n",
              "  'ilan_text': \"Yetişen Holdingin bir diğer önemli kişisi Kaan Gök, Mollalar LTD. ŞTİ'nin sahibidir.\"},\n",
              " {'ilan_id': 4,\n",
              "  'ilan_text': 'Geçenlerde Kaan gok bir açıklama yaptı. Bu açıklama da Borok firmasında çalışan Fatma Kara ile ilgiliydi. Ve çok önemliydi.'}]"
            ]
          },
          "metadata": {},
          "execution_count": 74
        }
      ]
    },
    {
      "cell_type": "code",
      "source": [
        "final = []\n",
        "for ilan in ilans:\n",
        "  ilan_text =ilan[\"ilan_text\"]\n",
        "  ilan_id = ilan[\"ilan_id\"]\n",
        "\n",
        "  list_of_sents = extractor.from_paragraph(ilan_text)\n",
        "  list_of_tups = nlp_parser.ner_pipe(list_of_texts= list_of_sents)\n",
        "\n",
        "  for name,type_ in list_of_tups:\n",
        "    final.append((name, type_, ilan_id))\n",
        "\n",
        "# CONVERT TO DATAFRAME  \n",
        "\n",
        "df = pd.DataFrame(final, columns =['name', 'type', 'ilan_id'])"
      ],
      "metadata": {
        "colab": {
          "base_uri": "https://localhost:8080/"
        },
        "id": "R8AtcucTUBiB",
        "outputId": "7e223e7b-a7fe-4838-ef56-d3439c46dad4"
      },
      "execution_count": null,
      "outputs": [
        {
          "output_type": "stream",
          "name": "stderr",
          "text": [
            "/usr/local/lib/python3.7/dist-packages/torch/amp/autocast_mode.py:198: UserWarning: User provided device_type of 'cuda', but CUDA is not available. Disabling\n",
            "  warnings.warn('User provided device_type of \\'cuda\\', but CUDA is not available. Disabling')\n"
          ]
        }
      ]
    },
    {
      "cell_type": "code",
      "source": [
        "df.head(20)"
      ],
      "metadata": {
        "colab": {
          "base_uri": "https://localhost:8080/",
          "height": 520
        },
        "id": "-GUj9g3VWXBD",
        "outputId": "e0d94c99-0d18-4944-c9a3-31fe55ca48f3"
      },
      "execution_count": null,
      "outputs": [
        {
          "output_type": "execute_result",
          "data": {
            "text/plain": [
              "                    name    type ilan_id\n",
              "0           Mehmet Demir  PERSON       0\n",
              "1             Vestel A.Ş     ORG       0\n",
              "2             Ayşe Yeşil  PERSON       0\n",
              "3             Fatma Kara  PERSON       0\n",
              "4   Borok Anonim Şirketi     ORG       1\n",
              "5             Fatma Kara  PERSON       1\n",
              "6             Halis Uçak  PERSON       1\n",
              "7        Yetişen Holding     ORG       2\n",
              "8             Halis Uçak  PERSON       2\n",
              "9      Yetişen Holdingin     ORG       3\n",
              "10              Kaan Gök  PERSON       3\n",
              "11     Mollalar LTD. ŞTİ     ORG       3\n",
              "12              Kaan gok  PERSON       4\n",
              "13                 Borok     ORG       4\n",
              "14            Fatma Kara  PERSON       4"
            ],
            "text/html": [
              "\n",
              "  <div id=\"df-802ba738-b7cd-41d8-8e29-7f5af1e4a304\">\n",
              "    <div class=\"colab-df-container\">\n",
              "      <div>\n",
              "<style scoped>\n",
              "    .dataframe tbody tr th:only-of-type {\n",
              "        vertical-align: middle;\n",
              "    }\n",
              "\n",
              "    .dataframe tbody tr th {\n",
              "        vertical-align: top;\n",
              "    }\n",
              "\n",
              "    .dataframe thead th {\n",
              "        text-align: right;\n",
              "    }\n",
              "</style>\n",
              "<table border=\"1\" class=\"dataframe\">\n",
              "  <thead>\n",
              "    <tr style=\"text-align: right;\">\n",
              "      <th></th>\n",
              "      <th>name</th>\n",
              "      <th>type</th>\n",
              "      <th>ilan_id</th>\n",
              "    </tr>\n",
              "  </thead>\n",
              "  <tbody>\n",
              "    <tr>\n",
              "      <th>0</th>\n",
              "      <td>Mehmet Demir</td>\n",
              "      <td>PERSON</td>\n",
              "      <td>0</td>\n",
              "    </tr>\n",
              "    <tr>\n",
              "      <th>1</th>\n",
              "      <td>Vestel A.Ş</td>\n",
              "      <td>ORG</td>\n",
              "      <td>0</td>\n",
              "    </tr>\n",
              "    <tr>\n",
              "      <th>2</th>\n",
              "      <td>Ayşe Yeşil</td>\n",
              "      <td>PERSON</td>\n",
              "      <td>0</td>\n",
              "    </tr>\n",
              "    <tr>\n",
              "      <th>3</th>\n",
              "      <td>Fatma Kara</td>\n",
              "      <td>PERSON</td>\n",
              "      <td>0</td>\n",
              "    </tr>\n",
              "    <tr>\n",
              "      <th>4</th>\n",
              "      <td>Borok Anonim Şirketi</td>\n",
              "      <td>ORG</td>\n",
              "      <td>1</td>\n",
              "    </tr>\n",
              "    <tr>\n",
              "      <th>5</th>\n",
              "      <td>Fatma Kara</td>\n",
              "      <td>PERSON</td>\n",
              "      <td>1</td>\n",
              "    </tr>\n",
              "    <tr>\n",
              "      <th>6</th>\n",
              "      <td>Halis Uçak</td>\n",
              "      <td>PERSON</td>\n",
              "      <td>1</td>\n",
              "    </tr>\n",
              "    <tr>\n",
              "      <th>7</th>\n",
              "      <td>Yetişen Holding</td>\n",
              "      <td>ORG</td>\n",
              "      <td>2</td>\n",
              "    </tr>\n",
              "    <tr>\n",
              "      <th>8</th>\n",
              "      <td>Halis Uçak</td>\n",
              "      <td>PERSON</td>\n",
              "      <td>2</td>\n",
              "    </tr>\n",
              "    <tr>\n",
              "      <th>9</th>\n",
              "      <td>Yetişen Holdingin</td>\n",
              "      <td>ORG</td>\n",
              "      <td>3</td>\n",
              "    </tr>\n",
              "    <tr>\n",
              "      <th>10</th>\n",
              "      <td>Kaan Gök</td>\n",
              "      <td>PERSON</td>\n",
              "      <td>3</td>\n",
              "    </tr>\n",
              "    <tr>\n",
              "      <th>11</th>\n",
              "      <td>Mollalar LTD. ŞTİ</td>\n",
              "      <td>ORG</td>\n",
              "      <td>3</td>\n",
              "    </tr>\n",
              "    <tr>\n",
              "      <th>12</th>\n",
              "      <td>Kaan gok</td>\n",
              "      <td>PERSON</td>\n",
              "      <td>4</td>\n",
              "    </tr>\n",
              "    <tr>\n",
              "      <th>13</th>\n",
              "      <td>Borok</td>\n",
              "      <td>ORG</td>\n",
              "      <td>4</td>\n",
              "    </tr>\n",
              "    <tr>\n",
              "      <th>14</th>\n",
              "      <td>Fatma Kara</td>\n",
              "      <td>PERSON</td>\n",
              "      <td>4</td>\n",
              "    </tr>\n",
              "  </tbody>\n",
              "</table>\n",
              "</div>\n",
              "      <button class=\"colab-df-convert\" onclick=\"convertToInteractive('df-802ba738-b7cd-41d8-8e29-7f5af1e4a304')\"\n",
              "              title=\"Convert this dataframe to an interactive table.\"\n",
              "              style=\"display:none;\">\n",
              "        \n",
              "  <svg xmlns=\"http://www.w3.org/2000/svg\" height=\"24px\"viewBox=\"0 0 24 24\"\n",
              "       width=\"24px\">\n",
              "    <path d=\"M0 0h24v24H0V0z\" fill=\"none\"/>\n",
              "    <path d=\"M18.56 5.44l.94 2.06.94-2.06 2.06-.94-2.06-.94-.94-2.06-.94 2.06-2.06.94zm-11 1L8.5 8.5l.94-2.06 2.06-.94-2.06-.94L8.5 2.5l-.94 2.06-2.06.94zm10 10l.94 2.06.94-2.06 2.06-.94-2.06-.94-.94-2.06-.94 2.06-2.06.94z\"/><path d=\"M17.41 7.96l-1.37-1.37c-.4-.4-.92-.59-1.43-.59-.52 0-1.04.2-1.43.59L10.3 9.45l-7.72 7.72c-.78.78-.78 2.05 0 2.83L4 21.41c.39.39.9.59 1.41.59.51 0 1.02-.2 1.41-.59l7.78-7.78 2.81-2.81c.8-.78.8-2.07 0-2.86zM5.41 20L4 18.59l7.72-7.72 1.47 1.35L5.41 20z\"/>\n",
              "  </svg>\n",
              "      </button>\n",
              "      \n",
              "  <style>\n",
              "    .colab-df-container {\n",
              "      display:flex;\n",
              "      flex-wrap:wrap;\n",
              "      gap: 12px;\n",
              "    }\n",
              "\n",
              "    .colab-df-convert {\n",
              "      background-color: #E8F0FE;\n",
              "      border: none;\n",
              "      border-radius: 50%;\n",
              "      cursor: pointer;\n",
              "      display: none;\n",
              "      fill: #1967D2;\n",
              "      height: 32px;\n",
              "      padding: 0 0 0 0;\n",
              "      width: 32px;\n",
              "    }\n",
              "\n",
              "    .colab-df-convert:hover {\n",
              "      background-color: #E2EBFA;\n",
              "      box-shadow: 0px 1px 2px rgba(60, 64, 67, 0.3), 0px 1px 3px 1px rgba(60, 64, 67, 0.15);\n",
              "      fill: #174EA6;\n",
              "    }\n",
              "\n",
              "    [theme=dark] .colab-df-convert {\n",
              "      background-color: #3B4455;\n",
              "      fill: #D2E3FC;\n",
              "    }\n",
              "\n",
              "    [theme=dark] .colab-df-convert:hover {\n",
              "      background-color: #434B5C;\n",
              "      box-shadow: 0px 1px 3px 1px rgba(0, 0, 0, 0.15);\n",
              "      filter: drop-shadow(0px 1px 2px rgba(0, 0, 0, 0.3));\n",
              "      fill: #FFFFFF;\n",
              "    }\n",
              "  </style>\n",
              "\n",
              "      <script>\n",
              "        const buttonEl =\n",
              "          document.querySelector('#df-802ba738-b7cd-41d8-8e29-7f5af1e4a304 button.colab-df-convert');\n",
              "        buttonEl.style.display =\n",
              "          google.colab.kernel.accessAllowed ? 'block' : 'none';\n",
              "\n",
              "        async function convertToInteractive(key) {\n",
              "          const element = document.querySelector('#df-802ba738-b7cd-41d8-8e29-7f5af1e4a304');\n",
              "          const dataTable =\n",
              "            await google.colab.kernel.invokeFunction('convertToInteractive',\n",
              "                                                     [key], {});\n",
              "          if (!dataTable) return;\n",
              "\n",
              "          const docLinkHtml = 'Like what you see? Visit the ' +\n",
              "            '<a target=\"_blank\" href=https://colab.research.google.com/notebooks/data_table.ipynb>data table notebook</a>'\n",
              "            + ' to learn more about interactive tables.';\n",
              "          element.innerHTML = '';\n",
              "          dataTable['output_type'] = 'display_data';\n",
              "          await google.colab.output.renderOutput(dataTable, element);\n",
              "          const docLink = document.createElement('div');\n",
              "          docLink.innerHTML = docLinkHtml;\n",
              "          element.appendChild(docLink);\n",
              "        }\n",
              "      </script>\n",
              "    </div>\n",
              "  </div>\n",
              "  "
            ]
          },
          "metadata": {},
          "execution_count": 90
        }
      ]
    },
    {
      "cell_type": "code",
      "source": [
        "# DEDUPLICATE DF\n",
        "deduplicated_df = pandas_dedupe.dedupe_dataframe(df,[\"name\", \"type\"])# update_model=True\n",
        "\n",
        "# 5 ten fazla örnek işaretlemek gerekiyor.\n",
        "# Sonrasında json output olarak kaydediyor training i\n"
      ],
      "metadata": {
        "colab": {
          "base_uri": "https://localhost:8080/",
          "height": 1000
        },
        "id": "7QOgvac-CWLC",
        "outputId": "9594ae9d-4a1d-49b4-8fa0-c7c1b3d3b382"
      },
      "execution_count": null,
      "outputs": [
        {
          "output_type": "stream",
          "name": "stderr",
          "text": [
            "/usr/local/lib/python3.7/dist-packages/pandas_dedupe/utility_functions.py:17: FutureWarning: The default value of regex will change from True to False in a future version.\n",
            "  df[i] = df[i].str.replace('[^\\w\\s\\.\\-\\(\\)\\,\\:\\/\\\\\\\\]','')\n",
            "name : yetisen holding\n",
            "type : org\n",
            "\n",
            "name : yetisen holdingin\n",
            "type : org\n",
            "\n",
            "0/10 positive, 0/10 negative\n",
            "Do these records refer to the same thing?\n",
            "(y)es / (n)o / (u)nsure / (f)inished\n"
          ]
        },
        {
          "name": "stdout",
          "output_type": "stream",
          "text": [
            "Importing data ...\n",
            "Starting active labeling...\n",
            "y\n"
          ]
        },
        {
          "output_type": "stream",
          "name": "stderr",
          "text": [
            "name : borok anonim sirketi\n",
            "type : org\n",
            "\n",
            "name : borok\n",
            "type : org\n",
            "\n",
            "1/10 positive, 0/10 negative\n",
            "Do these records refer to the same thing?\n",
            "(y)es / (n)o / (u)nsure / (f)inished / (p)revious\n"
          ]
        },
        {
          "name": "stdout",
          "output_type": "stream",
          "text": [
            "y\n"
          ]
        },
        {
          "output_type": "stream",
          "name": "stderr",
          "text": [
            "name : mollalar ltd. sti\n",
            "type : org\n",
            "\n",
            "name : borok\n",
            "type : org\n",
            "\n",
            "2/10 positive, 0/10 negative\n",
            "Do these records refer to the same thing?\n",
            "(y)es / (n)o / (u)nsure / (f)inished / (p)revious\n"
          ]
        },
        {
          "name": "stdout",
          "output_type": "stream",
          "text": [
            "n\n"
          ]
        },
        {
          "output_type": "stream",
          "name": "stderr",
          "text": [
            "name : yetisen holdingin\n",
            "type : org\n",
            "\n",
            "name : borok\n",
            "type : org\n",
            "\n",
            "2/10 positive, 1/10 negative\n",
            "Do these records refer to the same thing?\n",
            "(y)es / (n)o / (u)nsure / (f)inished / (p)revious\n"
          ]
        },
        {
          "name": "stdout",
          "output_type": "stream",
          "text": [
            "n\n"
          ]
        },
        {
          "output_type": "stream",
          "name": "stderr",
          "text": [
            "name : yetisen holding\n",
            "type : org\n",
            "\n",
            "name : borok\n",
            "type : org\n",
            "\n",
            "2/10 positive, 2/10 negative\n",
            "Do these records refer to the same thing?\n",
            "(y)es / (n)o / (u)nsure / (f)inished / (p)revious\n"
          ]
        },
        {
          "name": "stdout",
          "output_type": "stream",
          "text": [
            "n\n"
          ]
        },
        {
          "output_type": "stream",
          "name": "stderr",
          "text": [
            "name : halis ucak\n",
            "type : person\n",
            "\n",
            "name : halis ucak\n",
            "type : person\n",
            "\n",
            "2/10 positive, 3/10 negative\n",
            "Do these records refer to the same thing?\n",
            "(y)es / (n)o / (u)nsure / (f)inished / (p)revious\n"
          ]
        },
        {
          "name": "stdout",
          "output_type": "stream",
          "text": [
            "y\n"
          ]
        },
        {
          "output_type": "stream",
          "name": "stderr",
          "text": [
            "name : kaan gok\n",
            "type : person\n",
            "\n",
            "name : kaan gok\n",
            "type : person\n",
            "\n",
            "3/10 positive, 3/10 negative\n",
            "Do these records refer to the same thing?\n",
            "(y)es / (n)o / (u)nsure / (f)inished / (p)revious\n"
          ]
        },
        {
          "name": "stdout",
          "output_type": "stream",
          "text": [
            "y\n"
          ]
        },
        {
          "output_type": "stream",
          "name": "stderr",
          "text": [
            "name : fatma kara\n",
            "type : person\n",
            "\n",
            "name : fatma kara\n",
            "type : person\n",
            "\n",
            "4/10 positive, 3/10 negative\n",
            "Do these records refer to the same thing?\n",
            "(y)es / (n)o / (u)nsure / (f)inished / (p)revious\n"
          ]
        },
        {
          "name": "stdout",
          "output_type": "stream",
          "text": [
            "y\n"
          ]
        },
        {
          "output_type": "stream",
          "name": "stderr",
          "text": [
            "name : fatma kara\n",
            "type : person\n",
            "\n",
            "name : fatma kara\n",
            "type : person\n",
            "\n",
            "5/10 positive, 3/10 negative\n",
            "Do these records refer to the same thing?\n",
            "(y)es / (n)o / (u)nsure / (f)inished / (p)revious\n"
          ]
        },
        {
          "name": "stdout",
          "output_type": "stream",
          "text": [
            "y\n"
          ]
        },
        {
          "output_type": "stream",
          "name": "stderr",
          "text": [
            "name : fatma kara\n",
            "type : person\n",
            "\n",
            "name : fatma kara\n",
            "type : person\n",
            "\n",
            "6/10 positive, 3/10 negative\n",
            "Do these records refer to the same thing?\n",
            "(y)es / (n)o / (u)nsure / (f)inished / (p)revious\n"
          ]
        },
        {
          "name": "stdout",
          "output_type": "stream",
          "text": [
            "y\n"
          ]
        },
        {
          "output_type": "stream",
          "name": "stderr",
          "text": [
            "name : vestel a.s\n",
            "type : org\n",
            "\n",
            "name : mollalar ltd. sti\n",
            "type : org\n",
            "\n",
            "7/10 positive, 3/10 negative\n",
            "Do these records refer to the same thing?\n",
            "(y)es / (n)o / (u)nsure / (f)inished / (p)revious\n"
          ]
        },
        {
          "name": "stdout",
          "output_type": "stream",
          "text": [
            "n\n"
          ]
        },
        {
          "output_type": "stream",
          "name": "stderr",
          "text": [
            "name : vestel a.s\n",
            "type : org\n",
            "\n",
            "name : yetisen holdingin\n",
            "type : org\n",
            "\n",
            "7/10 positive, 4/10 negative\n",
            "Do these records refer to the same thing?\n",
            "(y)es / (n)o / (u)nsure / (f)inished / (p)revious\n"
          ]
        },
        {
          "name": "stdout",
          "output_type": "stream",
          "text": [
            "n\n"
          ]
        },
        {
          "output_type": "stream",
          "name": "stderr",
          "text": [
            "name : vestel a.s\n",
            "type : org\n",
            "\n",
            "name : borok anonim sirketi\n",
            "type : org\n",
            "\n",
            "7/10 positive, 5/10 negative\n",
            "Do these records refer to the same thing?\n",
            "(y)es / (n)o / (u)nsure / (f)inished / (p)revious\n"
          ]
        },
        {
          "name": "stdout",
          "output_type": "stream",
          "text": [
            "n\n"
          ]
        },
        {
          "output_type": "stream",
          "name": "stderr",
          "text": [
            "name : vestel a.s\n",
            "type : org\n",
            "\n",
            "name : borok\n",
            "type : org\n",
            "\n",
            "7/10 positive, 6/10 negative\n",
            "Do these records refer to the same thing?\n",
            "(y)es / (n)o / (u)nsure / (f)inished / (p)revious\n"
          ]
        },
        {
          "name": "stdout",
          "output_type": "stream",
          "text": [
            "n\n"
          ]
        },
        {
          "output_type": "stream",
          "name": "stderr",
          "text": [
            "name : vestel a.s\n",
            "type : org\n",
            "\n",
            "name : yetisen holding\n",
            "type : org\n",
            "\n",
            "7/10 positive, 7/10 negative\n",
            "Do these records refer to the same thing?\n",
            "(y)es / (n)o / (u)nsure / (f)inished / (p)revious\n"
          ]
        },
        {
          "name": "stdout",
          "output_type": "stream",
          "text": [
            "\n"
          ]
        },
        {
          "output_type": "stream",
          "name": "stderr",
          "text": [
            "(y)es / (n)o / (u)nsure / (f)inished / (p)revious\n"
          ]
        },
        {
          "name": "stdout",
          "output_type": "stream",
          "text": [
            "n\n"
          ]
        },
        {
          "output_type": "stream",
          "name": "stderr",
          "text": [
            "name : halis ucak\n",
            "type : person\n",
            "\n",
            "name : kaan gok\n",
            "type : person\n",
            "\n",
            "7/10 positive, 8/10 negative\n",
            "Do these records refer to the same thing?\n",
            "(y)es / (n)o / (u)nsure / (f)inished / (p)revious\n"
          ]
        },
        {
          "name": "stdout",
          "output_type": "stream",
          "text": [
            "n\n"
          ]
        },
        {
          "output_type": "stream",
          "name": "stderr",
          "text": [
            "name : halis ucak\n",
            "type : person\n",
            "\n",
            "name : kaan gok\n",
            "type : person\n",
            "\n",
            "7/10 positive, 9/10 negative\n",
            "Do these records refer to the same thing?\n",
            "(y)es / (n)o / (u)nsure / (f)inished / (p)revious\n"
          ]
        },
        {
          "name": "stdout",
          "output_type": "stream",
          "text": [
            "n\n"
          ]
        },
        {
          "output_type": "stream",
          "name": "stderr",
          "text": [
            "name : halis ucak\n",
            "type : person\n",
            "\n",
            "name : kaan gok\n",
            "type : person\n",
            "\n",
            "7/10 positive, 10/10 negative\n",
            "Do these records refer to the same thing?\n",
            "(y)es / (n)o / (u)nsure / (f)inished / (p)revious\n"
          ]
        },
        {
          "name": "stdout",
          "output_type": "stream",
          "text": [
            "n\n"
          ]
        },
        {
          "output_type": "stream",
          "name": "stderr",
          "text": [
            "name : halis ucak\n",
            "type : person\n",
            "\n",
            "name : kaan gok\n",
            "type : person\n",
            "\n",
            "7/10 positive, 11/10 negative\n",
            "Do these records refer to the same thing?\n",
            "(y)es / (n)o / (u)nsure / (f)inished / (p)revious\n"
          ]
        },
        {
          "name": "stdout",
          "output_type": "stream",
          "text": [
            "n\n"
          ]
        },
        {
          "output_type": "stream",
          "name": "stderr",
          "text": [
            "name : borok anonim sirketi\n",
            "type : org\n",
            "\n",
            "name : mollalar ltd. sti\n",
            "type : org\n",
            "\n",
            "7/10 positive, 12/10 negative\n",
            "Do these records refer to the same thing?\n",
            "(y)es / (n)o / (u)nsure / (f)inished / (p)revious\n"
          ]
        },
        {
          "name": "stdout",
          "output_type": "stream",
          "text": [
            "n\n"
          ]
        },
        {
          "output_type": "stream",
          "name": "stderr",
          "text": [
            "name : fatma kara\n",
            "type : person\n",
            "\n",
            "name : halis ucak\n",
            "type : person\n",
            "\n",
            "7/10 positive, 13/10 negative\n",
            "Do these records refer to the same thing?\n",
            "(y)es / (n)o / (u)nsure / (f)inished / (p)revious\n"
          ]
        },
        {
          "name": "stdout",
          "output_type": "stream",
          "text": [
            "\n"
          ]
        },
        {
          "output_type": "stream",
          "name": "stderr",
          "text": [
            "(y)es / (n)o / (u)nsure / (f)inished / (p)revious\n"
          ]
        },
        {
          "name": "stdout",
          "output_type": "stream",
          "text": [
            "f\n"
          ]
        },
        {
          "output_type": "stream",
          "name": "stderr",
          "text": [
            "Finished labeling\n"
          ]
        },
        {
          "output_type": "stream",
          "name": "stdout",
          "text": [
            "Clustering...\n",
            "# duplicate sets 9\n"
          ]
        },
        {
          "output_type": "execute_result",
          "data": {
            "text/plain": [
              "                    name    type ilan_id  cluster id  confidence\n",
              "0           mehmet demir  person       0           5    1.000000\n",
              "1             vestel a.s     org       0           6    1.000000\n",
              "2             ayse yesil  person       0           7    1.000000\n",
              "3             fatma kara  person       0           0    0.683446\n",
              "4   borok anonim sirketi     org       1           1    0.640009\n",
              "5             fatma kara  person       1           0    0.683446\n",
              "6             halis ucak  person       1           2    0.683446\n",
              "7        yetisen holding     org       2           3    0.673818\n",
              "8             halis ucak  person       2           2    0.683446\n",
              "9      yetisen holdingin     org       3           3    0.673818\n",
              "10              kaan gok  person       3           4    0.683446\n",
              "11     mollalar ltd. sti     org       3           8    1.000000\n",
              "12              kaan gok  person       4           4    0.683446\n",
              "13                 borok     org       4           1    0.640009\n",
              "14            fatma kara  person       4           0    0.683446"
            ],
            "text/html": [
              "\n",
              "  <div id=\"df-6ad9213d-c437-4f3c-919f-a0c426f3b4a5\">\n",
              "    <div class=\"colab-df-container\">\n",
              "      <div>\n",
              "<style scoped>\n",
              "    .dataframe tbody tr th:only-of-type {\n",
              "        vertical-align: middle;\n",
              "    }\n",
              "\n",
              "    .dataframe tbody tr th {\n",
              "        vertical-align: top;\n",
              "    }\n",
              "\n",
              "    .dataframe thead th {\n",
              "        text-align: right;\n",
              "    }\n",
              "</style>\n",
              "<table border=\"1\" class=\"dataframe\">\n",
              "  <thead>\n",
              "    <tr style=\"text-align: right;\">\n",
              "      <th></th>\n",
              "      <th>name</th>\n",
              "      <th>type</th>\n",
              "      <th>ilan_id</th>\n",
              "      <th>cluster id</th>\n",
              "      <th>confidence</th>\n",
              "    </tr>\n",
              "  </thead>\n",
              "  <tbody>\n",
              "    <tr>\n",
              "      <th>0</th>\n",
              "      <td>mehmet demir</td>\n",
              "      <td>person</td>\n",
              "      <td>0</td>\n",
              "      <td>5</td>\n",
              "      <td>1.000000</td>\n",
              "    </tr>\n",
              "    <tr>\n",
              "      <th>1</th>\n",
              "      <td>vestel a.s</td>\n",
              "      <td>org</td>\n",
              "      <td>0</td>\n",
              "      <td>6</td>\n",
              "      <td>1.000000</td>\n",
              "    </tr>\n",
              "    <tr>\n",
              "      <th>2</th>\n",
              "      <td>ayse yesil</td>\n",
              "      <td>person</td>\n",
              "      <td>0</td>\n",
              "      <td>7</td>\n",
              "      <td>1.000000</td>\n",
              "    </tr>\n",
              "    <tr>\n",
              "      <th>3</th>\n",
              "      <td>fatma kara</td>\n",
              "      <td>person</td>\n",
              "      <td>0</td>\n",
              "      <td>0</td>\n",
              "      <td>0.683446</td>\n",
              "    </tr>\n",
              "    <tr>\n",
              "      <th>4</th>\n",
              "      <td>borok anonim sirketi</td>\n",
              "      <td>org</td>\n",
              "      <td>1</td>\n",
              "      <td>1</td>\n",
              "      <td>0.640009</td>\n",
              "    </tr>\n",
              "    <tr>\n",
              "      <th>5</th>\n",
              "      <td>fatma kara</td>\n",
              "      <td>person</td>\n",
              "      <td>1</td>\n",
              "      <td>0</td>\n",
              "      <td>0.683446</td>\n",
              "    </tr>\n",
              "    <tr>\n",
              "      <th>6</th>\n",
              "      <td>halis ucak</td>\n",
              "      <td>person</td>\n",
              "      <td>1</td>\n",
              "      <td>2</td>\n",
              "      <td>0.683446</td>\n",
              "    </tr>\n",
              "    <tr>\n",
              "      <th>7</th>\n",
              "      <td>yetisen holding</td>\n",
              "      <td>org</td>\n",
              "      <td>2</td>\n",
              "      <td>3</td>\n",
              "      <td>0.673818</td>\n",
              "    </tr>\n",
              "    <tr>\n",
              "      <th>8</th>\n",
              "      <td>halis ucak</td>\n",
              "      <td>person</td>\n",
              "      <td>2</td>\n",
              "      <td>2</td>\n",
              "      <td>0.683446</td>\n",
              "    </tr>\n",
              "    <tr>\n",
              "      <th>9</th>\n",
              "      <td>yetisen holdingin</td>\n",
              "      <td>org</td>\n",
              "      <td>3</td>\n",
              "      <td>3</td>\n",
              "      <td>0.673818</td>\n",
              "    </tr>\n",
              "    <tr>\n",
              "      <th>10</th>\n",
              "      <td>kaan gok</td>\n",
              "      <td>person</td>\n",
              "      <td>3</td>\n",
              "      <td>4</td>\n",
              "      <td>0.683446</td>\n",
              "    </tr>\n",
              "    <tr>\n",
              "      <th>11</th>\n",
              "      <td>mollalar ltd. sti</td>\n",
              "      <td>org</td>\n",
              "      <td>3</td>\n",
              "      <td>8</td>\n",
              "      <td>1.000000</td>\n",
              "    </tr>\n",
              "    <tr>\n",
              "      <th>12</th>\n",
              "      <td>kaan gok</td>\n",
              "      <td>person</td>\n",
              "      <td>4</td>\n",
              "      <td>4</td>\n",
              "      <td>0.683446</td>\n",
              "    </tr>\n",
              "    <tr>\n",
              "      <th>13</th>\n",
              "      <td>borok</td>\n",
              "      <td>org</td>\n",
              "      <td>4</td>\n",
              "      <td>1</td>\n",
              "      <td>0.640009</td>\n",
              "    </tr>\n",
              "    <tr>\n",
              "      <th>14</th>\n",
              "      <td>fatma kara</td>\n",
              "      <td>person</td>\n",
              "      <td>4</td>\n",
              "      <td>0</td>\n",
              "      <td>0.683446</td>\n",
              "    </tr>\n",
              "  </tbody>\n",
              "</table>\n",
              "</div>\n",
              "      <button class=\"colab-df-convert\" onclick=\"convertToInteractive('df-6ad9213d-c437-4f3c-919f-a0c426f3b4a5')\"\n",
              "              title=\"Convert this dataframe to an interactive table.\"\n",
              "              style=\"display:none;\">\n",
              "        \n",
              "  <svg xmlns=\"http://www.w3.org/2000/svg\" height=\"24px\"viewBox=\"0 0 24 24\"\n",
              "       width=\"24px\">\n",
              "    <path d=\"M0 0h24v24H0V0z\" fill=\"none\"/>\n",
              "    <path d=\"M18.56 5.44l.94 2.06.94-2.06 2.06-.94-2.06-.94-.94-2.06-.94 2.06-2.06.94zm-11 1L8.5 8.5l.94-2.06 2.06-.94-2.06-.94L8.5 2.5l-.94 2.06-2.06.94zm10 10l.94 2.06.94-2.06 2.06-.94-2.06-.94-.94-2.06-.94 2.06-2.06.94z\"/><path d=\"M17.41 7.96l-1.37-1.37c-.4-.4-.92-.59-1.43-.59-.52 0-1.04.2-1.43.59L10.3 9.45l-7.72 7.72c-.78.78-.78 2.05 0 2.83L4 21.41c.39.39.9.59 1.41.59.51 0 1.02-.2 1.41-.59l7.78-7.78 2.81-2.81c.8-.78.8-2.07 0-2.86zM5.41 20L4 18.59l7.72-7.72 1.47 1.35L5.41 20z\"/>\n",
              "  </svg>\n",
              "      </button>\n",
              "      \n",
              "  <style>\n",
              "    .colab-df-container {\n",
              "      display:flex;\n",
              "      flex-wrap:wrap;\n",
              "      gap: 12px;\n",
              "    }\n",
              "\n",
              "    .colab-df-convert {\n",
              "      background-color: #E8F0FE;\n",
              "      border: none;\n",
              "      border-radius: 50%;\n",
              "      cursor: pointer;\n",
              "      display: none;\n",
              "      fill: #1967D2;\n",
              "      height: 32px;\n",
              "      padding: 0 0 0 0;\n",
              "      width: 32px;\n",
              "    }\n",
              "\n",
              "    .colab-df-convert:hover {\n",
              "      background-color: #E2EBFA;\n",
              "      box-shadow: 0px 1px 2px rgba(60, 64, 67, 0.3), 0px 1px 3px 1px rgba(60, 64, 67, 0.15);\n",
              "      fill: #174EA6;\n",
              "    }\n",
              "\n",
              "    [theme=dark] .colab-df-convert {\n",
              "      background-color: #3B4455;\n",
              "      fill: #D2E3FC;\n",
              "    }\n",
              "\n",
              "    [theme=dark] .colab-df-convert:hover {\n",
              "      background-color: #434B5C;\n",
              "      box-shadow: 0px 1px 3px 1px rgba(0, 0, 0, 0.15);\n",
              "      filter: drop-shadow(0px 1px 2px rgba(0, 0, 0, 0.3));\n",
              "      fill: #FFFFFF;\n",
              "    }\n",
              "  </style>\n",
              "\n",
              "      <script>\n",
              "        const buttonEl =\n",
              "          document.querySelector('#df-6ad9213d-c437-4f3c-919f-a0c426f3b4a5 button.colab-df-convert');\n",
              "        buttonEl.style.display =\n",
              "          google.colab.kernel.accessAllowed ? 'block' : 'none';\n",
              "\n",
              "        async function convertToInteractive(key) {\n",
              "          const element = document.querySelector('#df-6ad9213d-c437-4f3c-919f-a0c426f3b4a5');\n",
              "          const dataTable =\n",
              "            await google.colab.kernel.invokeFunction('convertToInteractive',\n",
              "                                                     [key], {});\n",
              "          if (!dataTable) return;\n",
              "\n",
              "          const docLinkHtml = 'Like what you see? Visit the ' +\n",
              "            '<a target=\"_blank\" href=https://colab.research.google.com/notebooks/data_table.ipynb>data table notebook</a>'\n",
              "            + ' to learn more about interactive tables.';\n",
              "          element.innerHTML = '';\n",
              "          dataTable['output_type'] = 'display_data';\n",
              "          await google.colab.output.renderOutput(dataTable, element);\n",
              "          const docLink = document.createElement('div');\n",
              "          docLink.innerHTML = docLinkHtml;\n",
              "          element.appendChild(docLink);\n",
              "        }\n",
              "      </script>\n",
              "    </div>\n",
              "  </div>\n",
              "  "
            ]
          },
          "metadata": {},
          "execution_count": 91
        }
      ]
    },
    {
      "cell_type": "code",
      "source": [
        "ilan_id_lst = deduplicated_df.groupby('cluster id')['ilan_id'].apply(list)\n",
        "ilan_type_lst = deduplicated_df.groupby('cluster id')['type'].apply(list)\n",
        "ilan_aliases_lst = deduplicated_df.groupby('cluster id')['name'].apply(list)\n",
        "\n",
        "# Resolve Type by Majority Vote\n",
        "# ????? \n",
        "\n",
        "fin = pd.concat([ilan_id_lst,ilan_aliases_lst, ilan_type_lst], axis=1)\n",
        "fin[\"entity_ids\"] = fin.index\n",
        "fin = fin.rename(columns={'cluster id': 'entity_id', 'name': 'aliases'})\n",
        "\n",
        "fin = fin[['entity_ids', 'type', 'aliases', 'ilan_id']]\n",
        "\n",
        "# SAVE NODES JSON\n",
        "#fin.to_json('nodes.json', orient='records', lines=True)\n",
        "\n",
        "\n",
        "fin.head()"
      ],
      "metadata": {
        "colab": {
          "base_uri": "https://localhost:8080/",
          "height": 238
        },
        "id": "vN5Yix_mDieC",
        "outputId": "d2435f81-a9af-4b0d-d02f-1db34c594569"
      },
      "execution_count": null,
      "outputs": [
        {
          "output_type": "execute_result",
          "data": {
            "text/plain": [
              "            entity_ids                      type  \\\n",
              "cluster id                                         \n",
              "0                    0  [person, person, person]   \n",
              "1                    1                [org, org]   \n",
              "2                    2          [person, person]   \n",
              "3                    3                [org, org]   \n",
              "4                    4          [person, person]   \n",
              "\n",
              "                                         aliases    ilan_id  \n",
              "cluster id                                                   \n",
              "0           [fatma kara, fatma kara, fatma kara]  [0, 1, 4]  \n",
              "1                  [borok anonim sirketi, borok]     [1, 4]  \n",
              "2                       [halis ucak, halis ucak]     [1, 2]  \n",
              "3           [yetisen holding, yetisen holdingin]     [2, 3]  \n",
              "4                           [kaan gok, kaan gok]     [3, 4]  "
            ],
            "text/html": [
              "\n",
              "  <div id=\"df-3fee7b60-a632-4525-b896-ad90ff10e2a0\">\n",
              "    <div class=\"colab-df-container\">\n",
              "      <div>\n",
              "<style scoped>\n",
              "    .dataframe tbody tr th:only-of-type {\n",
              "        vertical-align: middle;\n",
              "    }\n",
              "\n",
              "    .dataframe tbody tr th {\n",
              "        vertical-align: top;\n",
              "    }\n",
              "\n",
              "    .dataframe thead th {\n",
              "        text-align: right;\n",
              "    }\n",
              "</style>\n",
              "<table border=\"1\" class=\"dataframe\">\n",
              "  <thead>\n",
              "    <tr style=\"text-align: right;\">\n",
              "      <th></th>\n",
              "      <th>entity_ids</th>\n",
              "      <th>type</th>\n",
              "      <th>aliases</th>\n",
              "      <th>ilan_id</th>\n",
              "    </tr>\n",
              "    <tr>\n",
              "      <th>cluster id</th>\n",
              "      <th></th>\n",
              "      <th></th>\n",
              "      <th></th>\n",
              "      <th></th>\n",
              "    </tr>\n",
              "  </thead>\n",
              "  <tbody>\n",
              "    <tr>\n",
              "      <th>0</th>\n",
              "      <td>0</td>\n",
              "      <td>[person, person, person]</td>\n",
              "      <td>[fatma kara, fatma kara, fatma kara]</td>\n",
              "      <td>[0, 1, 4]</td>\n",
              "    </tr>\n",
              "    <tr>\n",
              "      <th>1</th>\n",
              "      <td>1</td>\n",
              "      <td>[org, org]</td>\n",
              "      <td>[borok anonim sirketi, borok]</td>\n",
              "      <td>[1, 4]</td>\n",
              "    </tr>\n",
              "    <tr>\n",
              "      <th>2</th>\n",
              "      <td>2</td>\n",
              "      <td>[person, person]</td>\n",
              "      <td>[halis ucak, halis ucak]</td>\n",
              "      <td>[1, 2]</td>\n",
              "    </tr>\n",
              "    <tr>\n",
              "      <th>3</th>\n",
              "      <td>3</td>\n",
              "      <td>[org, org]</td>\n",
              "      <td>[yetisen holding, yetisen holdingin]</td>\n",
              "      <td>[2, 3]</td>\n",
              "    </tr>\n",
              "    <tr>\n",
              "      <th>4</th>\n",
              "      <td>4</td>\n",
              "      <td>[person, person]</td>\n",
              "      <td>[kaan gok, kaan gok]</td>\n",
              "      <td>[3, 4]</td>\n",
              "    </tr>\n",
              "  </tbody>\n",
              "</table>\n",
              "</div>\n",
              "      <button class=\"colab-df-convert\" onclick=\"convertToInteractive('df-3fee7b60-a632-4525-b896-ad90ff10e2a0')\"\n",
              "              title=\"Convert this dataframe to an interactive table.\"\n",
              "              style=\"display:none;\">\n",
              "        \n",
              "  <svg xmlns=\"http://www.w3.org/2000/svg\" height=\"24px\"viewBox=\"0 0 24 24\"\n",
              "       width=\"24px\">\n",
              "    <path d=\"M0 0h24v24H0V0z\" fill=\"none\"/>\n",
              "    <path d=\"M18.56 5.44l.94 2.06.94-2.06 2.06-.94-2.06-.94-.94-2.06-.94 2.06-2.06.94zm-11 1L8.5 8.5l.94-2.06 2.06-.94-2.06-.94L8.5 2.5l-.94 2.06-2.06.94zm10 10l.94 2.06.94-2.06 2.06-.94-2.06-.94-.94-2.06-.94 2.06-2.06.94z\"/><path d=\"M17.41 7.96l-1.37-1.37c-.4-.4-.92-.59-1.43-.59-.52 0-1.04.2-1.43.59L10.3 9.45l-7.72 7.72c-.78.78-.78 2.05 0 2.83L4 21.41c.39.39.9.59 1.41.59.51 0 1.02-.2 1.41-.59l7.78-7.78 2.81-2.81c.8-.78.8-2.07 0-2.86zM5.41 20L4 18.59l7.72-7.72 1.47 1.35L5.41 20z\"/>\n",
              "  </svg>\n",
              "      </button>\n",
              "      \n",
              "  <style>\n",
              "    .colab-df-container {\n",
              "      display:flex;\n",
              "      flex-wrap:wrap;\n",
              "      gap: 12px;\n",
              "    }\n",
              "\n",
              "    .colab-df-convert {\n",
              "      background-color: #E8F0FE;\n",
              "      border: none;\n",
              "      border-radius: 50%;\n",
              "      cursor: pointer;\n",
              "      display: none;\n",
              "      fill: #1967D2;\n",
              "      height: 32px;\n",
              "      padding: 0 0 0 0;\n",
              "      width: 32px;\n",
              "    }\n",
              "\n",
              "    .colab-df-convert:hover {\n",
              "      background-color: #E2EBFA;\n",
              "      box-shadow: 0px 1px 2px rgba(60, 64, 67, 0.3), 0px 1px 3px 1px rgba(60, 64, 67, 0.15);\n",
              "      fill: #174EA6;\n",
              "    }\n",
              "\n",
              "    [theme=dark] .colab-df-convert {\n",
              "      background-color: #3B4455;\n",
              "      fill: #D2E3FC;\n",
              "    }\n",
              "\n",
              "    [theme=dark] .colab-df-convert:hover {\n",
              "      background-color: #434B5C;\n",
              "      box-shadow: 0px 1px 3px 1px rgba(0, 0, 0, 0.15);\n",
              "      filter: drop-shadow(0px 1px 2px rgba(0, 0, 0, 0.3));\n",
              "      fill: #FFFFFF;\n",
              "    }\n",
              "  </style>\n",
              "\n",
              "      <script>\n",
              "        const buttonEl =\n",
              "          document.querySelector('#df-3fee7b60-a632-4525-b896-ad90ff10e2a0 button.colab-df-convert');\n",
              "        buttonEl.style.display =\n",
              "          google.colab.kernel.accessAllowed ? 'block' : 'none';\n",
              "\n",
              "        async function convertToInteractive(key) {\n",
              "          const element = document.querySelector('#df-3fee7b60-a632-4525-b896-ad90ff10e2a0');\n",
              "          const dataTable =\n",
              "            await google.colab.kernel.invokeFunction('convertToInteractive',\n",
              "                                                     [key], {});\n",
              "          if (!dataTable) return;\n",
              "\n",
              "          const docLinkHtml = 'Like what you see? Visit the ' +\n",
              "            '<a target=\"_blank\" href=https://colab.research.google.com/notebooks/data_table.ipynb>data table notebook</a>'\n",
              "            + ' to learn more about interactive tables.';\n",
              "          element.innerHTML = '';\n",
              "          dataTable['output_type'] = 'display_data';\n",
              "          await google.colab.output.renderOutput(dataTable, element);\n",
              "          const docLink = document.createElement('div');\n",
              "          docLink.innerHTML = docLinkHtml;\n",
              "          element.appendChild(docLink);\n",
              "        }\n",
              "      </script>\n",
              "    </div>\n",
              "  </div>\n",
              "  "
            ]
          },
          "metadata": {},
          "execution_count": 102
        }
      ]
    },
    {
      "cell_type": "code",
      "source": [
        "ent_ids = fin.entity_ids.tolist()\n",
        "alias = fin.aliases.tolist()\n",
        "sel_alias = [i[0] for i in alias]\n",
        "\n",
        "id2name = dict(zip(ent_ids,sel_alias))"
      ],
      "metadata": {
        "id": "OzSfQEzjacdw"
      },
      "execution_count": null,
      "outputs": []
    },
    {
      "cell_type": "code",
      "source": [
        "id2name"
      ],
      "metadata": {
        "colab": {
          "base_uri": "https://localhost:8080/"
        },
        "id": "DjstBVN2bCwK",
        "outputId": "e210c4cc-2cc9-4880-a9b7-0647c1276a6c"
      },
      "execution_count": null,
      "outputs": [
        {
          "output_type": "execute_result",
          "data": {
            "text/plain": [
              "{0: 'fatma kara',\n",
              " 1: 'borok anonim sirketi',\n",
              " 2: 'halis ucak',\n",
              " 3: 'yetisen holding',\n",
              " 4: 'kaan gok',\n",
              " 5: 'mehmet demir',\n",
              " 6: 'vestel a.s',\n",
              " 7: 'ayse yesil',\n",
              " 8: 'mollalar ltd. sti'}"
            ]
          },
          "metadata": {},
          "execution_count": 113
        }
      ]
    },
    {
      "cell_type": "code",
      "source": [
        "sel_alias"
      ],
      "metadata": {
        "colab": {
          "base_uri": "https://localhost:8080/"
        },
        "id": "1FtHlHw2an2K",
        "outputId": "36780d58-316d-49cc-d2d3-36e739b5c9f6"
      },
      "execution_count": null,
      "outputs": [
        {
          "output_type": "execute_result",
          "data": {
            "text/plain": [
              "['fatma kara',\n",
              " 'borok anonim sirketi',\n",
              " 'halis ucak',\n",
              " 'yetisen holding',\n",
              " 'kaan gok',\n",
              " 'mehmet demir',\n",
              " 'vestel a.s',\n",
              " 'ayse yesil',\n",
              " 'mollalar ltd. sti']"
            ]
          },
          "metadata": {},
          "execution_count": 109
        }
      ]
    },
    {
      "cell_type": "markdown",
      "source": [
        "# Create Relations"
      ],
      "metadata": {
        "id": "JnYrdSWexxa3"
      }
    },
    {
      "cell_type": "code",
      "source": [
        "ent_ids = fin.entity_ids.tolist()\n",
        "ilan_ids = fin.ilan_id.tolist()\n",
        "\n",
        "\n",
        "zipped = zip(ent_ids, ilan_ids)"
      ],
      "metadata": {
        "id": "53a0KqwLD7D5"
      },
      "execution_count": null,
      "outputs": []
    },
    {
      "cell_type": "code",
      "source": [
        "Output = {}\n",
        "for x, y in ent_mentions:\n",
        "    if y in Output:\n",
        "        Output[y].append((x))\n",
        "    else:\n",
        "        Output[y] = [(x)]\n",
        "  \n",
        "# Her dokumanda geçen entityler\n",
        "print(Output)"
      ],
      "metadata": {
        "colab": {
          "base_uri": "https://localhost:8080/"
        },
        "id": "z6C21xwwD9oX",
        "outputId": "ef9ac6a0-825c-4a2a-fdf1-3aeed12ddbfd"
      },
      "execution_count": null,
      "outputs": [
        {
          "output_type": "stream",
          "name": "stdout",
          "text": [
            "{'0': [0, 5, 6, 7], '1': [0, 1, 2], '4': [0, 1, 4], '2': [2, 3], '3': [3, 4, 8]}\n"
          ]
        }
      ]
    },
    {
      "cell_type": "code",
      "source": [
        "import itertools\n",
        "fin = []\n",
        "for item in Output.items():\n",
        "\n",
        "  doc_id = item[0]\n",
        "  entity_list = item[1]\n",
        "  edges = itertools.combinations(entity_list, 2)\n",
        "  edges = list(set(edges))\n",
        "  for u,v in list(edges):\n",
        "    if u != v:\n",
        "      fin.append((u,v,doc_id))"
      ],
      "metadata": {
        "id": "8bV1eZRWEAq1"
      },
      "execution_count": null,
      "outputs": []
    },
    {
      "cell_type": "code",
      "source": [
        "list_of_relations = []\n",
        "for u,v,r in fin:\n",
        "  list_of_relations.append((u,v))\n",
        "\n",
        "\n",
        "print(len(list_of_relations))"
      ],
      "metadata": {
        "colab": {
          "base_uri": "https://localhost:8080/"
        },
        "id": "ejeM3kZ5EEi2",
        "outputId": "e1d74478-5c3b-4ff2-8749-6a5c56b89727"
      },
      "execution_count": null,
      "outputs": [
        {
          "output_type": "stream",
          "name": "stdout",
          "text": [
            "16\n"
          ]
        }
      ]
    },
    {
      "cell_type": "markdown",
      "source": [
        "# Visualization"
      ],
      "metadata": {
        "id": "cU3myLUux0Wz"
      }
    },
    {
      "cell_type": "code",
      "source": [
        "import networkx as nx\n",
        "import numpy as np\n",
        "import matplotlib.pyplot as plt\n",
        "\n",
        "from matplotlib.pyplot import figure\n",
        "\n",
        "figure(figsize=(12, 8), dpi=80)\n",
        "\n",
        "\n",
        "G = nx.Graph()\n",
        "G.add_edges_from(list_of_relations)\n",
        "\n",
        "\n",
        "nx.draw(G, cmap = plt.get_cmap('jet'), labels= id2name, with_labels = True)\n",
        "plt.show()"
      ],
      "metadata": {
        "colab": {
          "base_uri": "https://localhost:8080/",
          "height": 673
        },
        "id": "kvtwTBeyEGqx",
        "outputId": "9cacc527-fc49-420c-f116-535bfc091d68"
      },
      "execution_count": null,
      "outputs": [
        {
          "output_type": "display_data",
          "data": {
            "text/plain": [
              "<Figure size 960x640 with 1 Axes>"
            ],
            "image/png": "[encoded data removed]"
          },
          "metadata": {}
        }
      ]
    },
    {
      "cell_type": "code",
      "source": [],
      "metadata": {
        "id": "MwzBliZLbfgH"
      },
      "execution_count": null,
      "outputs": []
    }
  ]
}